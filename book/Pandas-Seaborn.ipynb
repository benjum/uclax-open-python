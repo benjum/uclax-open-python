{
 "cells": [
  {
   "cell_type": "markdown",
   "id": "distinct-graham",
   "metadata": {},
   "source": [
    "# Pandas & Seaborn"
   ]
  },
  {
   "cell_type": "markdown",
   "id": "frequent-handy",
   "metadata": {},
   "source": [
    "<img src='assets/helpers/pandas.png' width=400>\n",
    "\n",
    "Pandas is Python software library for manipulating and analyzing data.  \n",
    "\n",
    "It may be one of the most widely used tools for data munging\n",
    "* present data in nice formats\n",
    "* multiple convenient methods for filtering data\n",
    "* work with a variety of data formats (CSV, Excel, …)\n",
    "* convenient functions for quickly plotting data"
   ]
  },
  {
   "cell_type": "markdown",
   "id": "vietnamese-buffer",
   "metadata": {},
   "source": [
    "## Importing libraries and Setting up some data"
   ]
  },
  {
   "cell_type": "code",
   "execution_count": null,
   "id": "pursuant-guest",
   "metadata": {},
   "outputs": [],
   "source": [
    "import yahoo_fin.stock_info as si\n",
    "import requests\n",
    "import pandas as pd\n",
    "import matplotlib.pyplot as plt\n",
    "import ipywidgets"
   ]
  },
  {
   "cell_type": "code",
   "execution_count": null,
   "id": "powerful-phone",
   "metadata": {},
   "outputs": [],
   "source": [
    "# Getting the actual company name from a stock ticker symbol\n",
    "def get_symbol(symbol):\n",
    "    url = \"http://d.yimg.com/autoc.finance.yahoo.com/autoc?query={}&region=1&lang=en\".format(symbol)\n",
    "    result = requests.get(url).json()\n",
    "    for x in result['ResultSet']['Result']:\n",
    "        if x['symbol'] == symbol:\n",
    "            return x['name']"
   ]
  },
  {
   "cell_type": "code",
   "execution_count": null,
   "id": "proved-alert",
   "metadata": {},
   "outputs": [],
   "source": [
    "get_symbol('AAPL')"
   ]
  },
  {
   "cell_type": "code",
   "execution_count": null,
   "id": "dressed-technician",
   "metadata": {},
   "outputs": [],
   "source": [
    "few_days = si.get_data('aapl', start_date = '01/01/2020', end_date = '03/31/2021')"
   ]
  },
  {
   "cell_type": "code",
   "execution_count": null,
   "id": "certified-medicaid",
   "metadata": {},
   "outputs": [],
   "source": [
    "few_days"
   ]
  },
  {
   "cell_type": "code",
   "execution_count": null,
   "id": "pretty-myanmar",
   "metadata": {},
   "outputs": [],
   "source": [
    "# The Matplotlib way\n",
    "\n",
    "fig,ax = plt.subplots(1,1,figsize=(7,5))\n",
    "ax.plot(few_days.index, few_days.high)\n",
    "ax.set_title(get_symbol('AAPL'))\n",
    "fig.autofmt_xdate()"
   ]
  },
  {
   "cell_type": "code",
   "execution_count": null,
   "id": "presidential-maximum",
   "metadata": {},
   "outputs": [],
   "source": [
    "# The Pandas way\n",
    "\n",
    "few_days.plot(y='high');"
   ]
  },
  {
   "cell_type": "code",
   "execution_count": null,
   "id": "funded-passport",
   "metadata": {},
   "outputs": [],
   "source": [
    "few_days.plot(y='high',\n",
    "              figsize=(7,5),\n",
    "              title=get_symbol('AAPL'),\n",
    "              legend=False);"
   ]
  },
  {
   "cell_type": "markdown",
   "id": "precise-auditor",
   "metadata": {},
   "source": [
    "## There are also methods for conveniently making a range of other plots"
   ]
  },
  {
   "cell_type": "code",
   "execution_count": null,
   "id": "radio-clause",
   "metadata": {},
   "outputs": [],
   "source": [
    "appl_top_6 = pd.read_csv('assets/helpers/holdings-of-appl-top-6.csv')"
   ]
  },
  {
   "cell_type": "code",
   "execution_count": null,
   "id": "american-armor",
   "metadata": {},
   "outputs": [],
   "source": [
    "appl_top_6"
   ]
  },
  {
   "cell_type": "code",
   "execution_count": null,
   "id": "willing-spanking",
   "metadata": {},
   "outputs": [],
   "source": [
    "appl_top_6.plot.bar(x='Company');"
   ]
  },
  {
   "cell_type": "code",
   "execution_count": null,
   "id": "normal-wheel",
   "metadata": {},
   "outputs": [],
   "source": [
    "appl_top_6.sort_values('Vanguard Group, Inc. (The)')"
   ]
  },
  {
   "cell_type": "code",
   "execution_count": null,
   "id": "related-train",
   "metadata": {},
   "outputs": [],
   "source": [
    "appl_top_6.sort_values('Vanguard Group, Inc. (The)').plot.bar(x='Company',\n",
    "                                                              figsize=(15,7),\n",
    "                                                              cmap='gist_rainbow');"
   ]
  },
  {
   "cell_type": "code",
   "execution_count": null,
   "id": "lonely-auction",
   "metadata": {},
   "outputs": [],
   "source": [
    "vang_top_5 = appl_top_6.sort_values('Vanguard Group, Inc. (The)',ascending=False)[:5]\n",
    "vang_top_5"
   ]
  },
  {
   "cell_type": "code",
   "execution_count": null,
   "id": "narrative-rouge",
   "metadata": {},
   "outputs": [],
   "source": [
    "vang_top_5.plot.barh(x='Company',\n",
    "                     figsize=(10,7),\n",
    "                     cmap='gist_rainbow');"
   ]
  },
  {
   "cell_type": "code",
   "execution_count": null,
   "id": "uniform-atlantic",
   "metadata": {},
   "outputs": [],
   "source": [
    "vang_top_5.plot.barh(x='Company',\n",
    "                     figsize=(10,7),\n",
    "                     cmap='gist_rainbow');\n",
    "\n",
    "# You can use plt.gca to get the current axes object from pandas plots too\n",
    "# and then use regular matplotlib methods to alter the plots\n",
    "# Try doing that here to change limits on the horizontal axis to (0,15)\n",
    "# and then make xticks of (0,5,10,15)\n",
    "\n",
    "\n"
   ]
  },
  {
   "cell_type": "code",
   "execution_count": null,
   "id": "super-escape",
   "metadata": {},
   "outputs": [],
   "source": [
    "%load \"assets/helpers/vanguard5.py\""
   ]
  },
  {
   "cell_type": "markdown",
   "id": "attempted-rough",
   "metadata": {},
   "source": [
    "# Seaborn\n",
    "\n",
    "If Matplotlib 'tries to make easy things easy and hard things possible,' Seaborn tries to make a well-defined set of hard things easy too.\n",
    "\n",
    "https://seaborn.pydata.org\n",
    "\n",
    "<img src='assets/helpers/seaborn.png' width=700>\n",
    "          \n",
    "* Built on top of matplotlib and closely integrated with pandas data structures.\n",
    "* Used for making statistical graphics and using visualization to quickly and easily explore and understand data.\n",
    "* The style settings can also affect matplotlib plots, even if you don't make them with seaborn."
   ]
  },
  {
   "cell_type": "code",
   "execution_count": null,
   "id": "alternative-jimmy",
   "metadata": {},
   "outputs": [],
   "source": [
    "import seaborn as sns"
   ]
  },
  {
   "cell_type": "code",
   "execution_count": null,
   "id": "northern-newspaper",
   "metadata": {},
   "outputs": [],
   "source": [
    "sns.scatterplot(data=appl_top_6, x=\"Blackrock Inc.\", y=\"Vanguard Group, Inc. (The)\");"
   ]
  },
  {
   "cell_type": "code",
   "execution_count": null,
   "id": "pleasant-jimmy",
   "metadata": {},
   "outputs": [],
   "source": [
    "sns.lmplot(data=appl_top_6, x=\"Blackrock Inc.\", y=\"Vanguard Group, Inc. (The)\");"
   ]
  },
  {
   "cell_type": "code",
   "execution_count": null,
   "id": "strange-solution",
   "metadata": {},
   "outputs": [],
   "source": [
    "sns.pairplot(appl_top_6.loc[:,appl_top_6.columns != 'Company']);"
   ]
  },
  {
   "cell_type": "code",
   "execution_count": null,
   "id": "entitled-invention",
   "metadata": {},
   "outputs": [],
   "source": [
    "df = sns.load_dataset(\"iris\")\n",
    "df.head()"
   ]
  },
  {
   "cell_type": "code",
   "execution_count": null,
   "id": "suspended-creek",
   "metadata": {},
   "outputs": [],
   "source": [
    "sns.set(style=\"whitegrid\")\n",
    "# sns.set(style=\"dark\")"
   ]
  },
  {
   "cell_type": "code",
   "execution_count": null,
   "id": "falling-carol",
   "metadata": {},
   "outputs": [],
   "source": [
    "sns.scatterplot(x=df.petal_length,y=df.petal_width,style=df.species);"
   ]
  },
  {
   "cell_type": "code",
   "execution_count": null,
   "id": "vertical-learning",
   "metadata": {},
   "outputs": [],
   "source": [
    "sns.scatterplot(x=df.petal_length,y=df.petal_width,hue=df.species);"
   ]
  },
  {
   "cell_type": "code",
   "execution_count": null,
   "id": "generous-antarctica",
   "metadata": {},
   "outputs": [],
   "source": [
    "sns.pairplot(df,hue='species');"
   ]
  },
  {
   "cell_type": "code",
   "execution_count": null,
   "id": "legitimate-allocation",
   "metadata": {},
   "outputs": [],
   "source": [
    "sns.regplot(x=df.petal_length,y=df.petal_width);"
   ]
  },
  {
   "cell_type": "code",
   "execution_count": null,
   "id": "general-place",
   "metadata": {},
   "outputs": [],
   "source": [
    "g = sns.FacetGrid(df, col='species', hue='species')\n",
    "g.map(plt.scatter, 'petal_length', 'petal_width');"
   ]
  },
  {
   "cell_type": "markdown",
   "id": "suburban-membership",
   "metadata": {},
   "source": [
    "# Preview of next week"
   ]
  },
  {
   "cell_type": "code",
   "execution_count": null,
   "id": "standard-covering",
   "metadata": {},
   "outputs": [],
   "source": [
    "import plotly.express as px"
   ]
  },
  {
   "cell_type": "code",
   "execution_count": null,
   "id": "noted-valentine",
   "metadata": {},
   "outputs": [],
   "source": [
    "fig = px.scatter(df, x='petal_length', y='petal_width', color=\"species\")\n",
    "fig.show()"
   ]
  },
  {
   "cell_type": "code",
   "execution_count": null,
   "id": "requested-wonder",
   "metadata": {},
   "outputs": [],
   "source": [
    "px.scatter_3d(df,x='petal_length',y='petal_width',z='sepal_length',color='species')"
   ]
  },
  {
   "cell_type": "code",
   "execution_count": null,
   "id": "cognitive-rebate",
   "metadata": {},
   "outputs": [],
   "source": [
    "def plotdows(ticker='AAPL'):\n",
    "    few_days = si.get_data(ticker, start_date = '01/01/2020', end_date = '03/31/2021')\n",
    "    fig,ax = plt.subplots(1,1,figsize=(7,5))\n",
    "    ax.plot(few_days.index, few_days.high)\n",
    "    ax.set_title(get_symbol(ticker))\n",
    "    fig.autofmt_xdate()\n",
    "    \n",
    "dow_list = si.tickers_dow()\n",
    "ipywidgets.interactive(plotdows,ticker=dow_list)"
   ]
  }
 ],
 "metadata": {
  "kernelspec": {
   "display_name": "Python 3",
   "language": "python",
   "name": "python3"
  },
  "language_info": {
   "codemirror_mode": {
    "name": "ipython",
    "version": 3
   },
   "file_extension": ".py",
   "mimetype": "text/x-python",
   "name": "python",
   "nbconvert_exporter": "python",
   "pygments_lexer": "ipython3",
   "version": "3.8.8"
  },
  "toc": {
   "base_numbering": 1,
   "nav_menu": {},
   "number_sections": true,
   "sideBar": true,
   "skip_h1_title": false,
   "title_cell": "Table of Contents",
   "title_sidebar": "Contents",
   "toc_cell": false,
   "toc_position": {},
   "toc_section_display": true,
   "toc_window_display": false
  }
 },
 "nbformat": 4,
 "nbformat_minor": 5
}
